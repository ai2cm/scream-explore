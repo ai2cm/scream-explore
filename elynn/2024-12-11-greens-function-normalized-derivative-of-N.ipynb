{
 "cells": [
  {
   "cell_type": "code",
   "execution_count": null,
   "metadata": {},
   "outputs": [],
   "source": [
    "import xarray as xr\n",
    "import numpy as np\n",
    "import matplotlib.pyplot as plt\n",
    "import cartopy.crs as ccrs\n",
    "from pathlib import Path\n",
    "import re\n",
    "import yaml\n",
    "import torch\n",
    "\n",
    "from fme.core.data_loading.perturbation import (\n",
    "    ConstantConfig,\n",
    "    GreensFunctionConfig,\n",
    "    PerturbationSelector,\n",
    ")\n",
    "plt.rcParams['font.size'] = 16"
   ]
  },
  {
   "cell_type": "markdown",
   "metadata": {},
   "source": [
    "### Read inference forcing data and control run data"
   ]
  },
  {
   "cell_type": "code",
   "execution_count": null,
   "metadata": {},
   "outputs": [],
   "source": [
    "forcing = xr.open_mfdataset(\"/pscratch/sd/e/elynnwu/e3smv2-fme-data/gfmip-annual-repeating-sst-sic-with-hybrid-amip-1970-2020/*.nc\")\n",
    "forcing = forcing.sel(time=slice(\"1971-01-01\", \"1981-01-01\"))\n",
    "control = xr.open_dataset(\"/pscratch/sd/e/elynnwu/fme-output/greens-experiment-v3/control_run_climSST_10yr/time_mean_diagnostics.nc\")"
   ]
  },
  {
   "cell_type": "markdown",
   "metadata": {},
   "source": [
    "### Load grid area directly from grid file"
   ]
  },
  {
   "cell_type": "code",
   "execution_count": null,
   "metadata": {},
   "outputs": [],
   "source": [
    "one_deg_grid = xr.open_dataset(\"/pscratch/sd/e/elynnwu/ace-run-inference/greens-function-test/ncremap_gaussian_grid_180_by_360.nc\")\n",
    "area = one_deg_grid[\"grid_area\"].values.reshape((180, 360))"
   ]
  },
  {
   "cell_type": "markdown",
   "metadata": {},
   "source": [
    "### Prepare ocean fraction, ocean mask, and ice free mask\n",
    "\n",
    "- Ocean mask is defined as ocean fraction >= 0.5\n",
    "- Ice free mask is defined as sea ice fraction <= 0.01\n",
    "\n",
    "** we use the same time period average in the inference (1971-1981)\n"
   ]
  },
  {
   "cell_type": "code",
   "execution_count": null,
   "metadata": {},
   "outputs": [],
   "source": [
    "ocean_fraction = forcing.OCNFRAC.mean(dim=\"time\").values\n",
    "lat = control.lat.values\n",
    "lon = control.lon.values\n",
    "lons, lats = np.meshgrid(lon, lat)\n",
    "area_weights = np.cos(np.deg2rad(lat))\n",
    "ice_free_mask = xr.where(forcing.ICEFRAC.mean(dim=\"time\")<=0.05 , True, False).values\n",
    "ocean_mask = xr.where(forcing.OCNFRAC.mean(dim=\"time\")>=0.5 , True, False).values"
   ]
  },
  {
   "cell_type": "markdown",
   "metadata": {},
   "source": [
    "### Get ACE's SST perturbation\n",
    "Instead of reading from inference output's TS, we back out the anomaly directly from the perturbation calculation to have a clean SST perturbation. If we use TS from inference directly, we have trouble filtering out sea ice regions as TS does change in those grid cells."
   ]
  },
  {
   "cell_type": "code",
   "execution_count": null,
   "metadata": {},
   "outputs": [],
   "source": [
    "def get_ace_sst_perturbation(config, ocean_fraction, lat, lon):\n",
    "    selector = PerturbationSelector(\n",
    "        name=\"greens_function\",\n",
    "        config=config,\n",
    "    )\n",
    "    perturbation = selector.perturbation\n",
    "    lats, lons = torch.meshgrid(torch.from_numpy(lat), torch.from_numpy(lon), indexing=\"ij\")\n",
    "    nx, ny = len(lat), len(lon)\n",
    "    ocean_fraction = torch.from_numpy(ocean_fraction)\n",
    "    data = torch.zeros(nx, ny, device=\"cpu\")\n",
    "    perturbation.apply_perturbation(data, lats.to(\"cpu\"), lons.to(\"cpu\"), ocean_fraction)\n",
    "    return data.data.numpy()"
   ]
  },
  {
   "cell_type": "markdown",
   "metadata": {},
   "source": [
    "### Read in all patch inference output"
   ]
  },
  {
   "cell_type": "code",
   "execution_count": null,
   "metadata": {},
   "outputs": [],
   "source": [
    "base_directory = Path(\"/pscratch/sd/e/elynnwu/fme-output/greens-experiment-v3\")\n",
    "patch_sim_dict = {}\n",
    "for patch in base_directory.iterdir():\n",
    "    if patch.is_dir() and  \"sst_patch_\" in patch.name and \"10yr\" in patch.name:\n",
    "        config = yaml.safe_load(open(f\"{base_directory}/{patch.name}/config.yaml\"))\n",
    "        amplitude = config[\"forcing_loader\"][\"perturbations\"][\"sst\"][0][\"config\"][\"amplitude\"]\n",
    "        lon_center = config[\"forcing_loader\"][\"perturbations\"][\"sst\"][0][\"config\"][\"lon_center\"]\n",
    "        lat_center = config[\"forcing_loader\"][\"perturbations\"][\"sst\"][0][\"config\"][\"lat_center\"]\n",
    "        current_patch = xr.open_dataset(f\"{base_directory}/{patch.name}/time_mean_diagnostics.nc\")       \n",
    "        current_patch_string = f\"{lat_center}_{lon_center}_{amplitude}K\"\n",
    "        if current_patch_string not in patch_sim_dict.keys():\n",
    "            patch_sim_dict[current_patch_string] = current_patch"
   ]
  },
  {
   "cell_type": "code",
   "execution_count": null,
   "metadata": {},
   "outputs": [],
   "source": [
    "print(\"Total number of pathces:\", len(patch_sim_dict.keys()))"
   ]
  },
  {
   "cell_type": "code",
   "execution_count": null,
   "metadata": {},
   "outputs": [],
   "source": [
    "# Patch has the following format: latcenter_loncenter_amplitude\n",
    "pattern = r\"-?\\d+\\.\\d+\""
   ]
  },
  {
   "cell_type": "markdown",
   "metadata": {},
   "source": [
    "### Equation 3 from [Bloch‐Johnson et al. 2024](https://agupubs.onlinelibrary.wiley.com/doi/epdf/10.1029/2023MS003700)\n",
    "$\\frac{df}{dSST^*_{i}} \\approx \\frac{\\sum_{p} \\bigl(\\Delta f_p / \\langle \\Delta \\overrightarrow{SST_p} \\rangle \\bigr) \\Delta SST_{p,i}}{\\sum_{p} \\Delta SST_{p,i}}$"
   ]
  },
  {
   "cell_type": "code",
   "execution_count": null,
   "metadata": {},
   "outputs": [],
   "source": [
    "def get_normalized_derivative_of_N(VAR, patch_amplitude, control_run):\n",
    "    delta_sst_p_i_sum = np.zeros_like(control_run[\"gen_map-TS\"].values) #eq3 denominator\n",
    "    sum_of_eq3_numerator = np.zeros_like(control_run[\"gen_map-TS\"].values) #eq3 numerator\n",
    "    for patch in patch_sim_dict.keys():\n",
    "        info = re.findall(pattern, patch)\n",
    "        amplitude = float(info[-1])\n",
    "        lat_center = float(info[0])\n",
    "        lon_center = float(info[1])\n",
    "        if amplitude == patch_amplitude:\n",
    "            config={\n",
    "                        \"amplitude\": amplitude,\n",
    "                        \"lat_center\": lat_center,\n",
    "                        \"lon_center\": lon_center,\n",
    "                        \"lat_width\": 20.0,\n",
    "                        \"lon_width\": 80.0,\n",
    "                    }\n",
    "            sst_anom = get_ace_sst_perturbation(config, ocean_fraction, lat, lon)\n",
    "            patch_and_icefree = sst_anom!=0 & ice_free_mask\n",
    "            if patch_and_icefree.sum() > 0: # some patches are entirely over land and ice free region\n",
    "                delta_sst_patch_avg = np.sum(sst_anom[patch_and_icefree] * area[patch_and_icefree]) / np.sum(area)\n",
    "                f_patch = np.average(patch_sim_dict[patch][VAR], weights=area_weights, axis=0).mean()\n",
    "                f_control = np.average(control_run[VAR], weights=area_weights, axis=0).mean()\n",
    "                delta_fp = f_patch - f_control\n",
    "                sum_of_eq3_numerator[patch_and_icefree] += delta_fp / delta_sst_patch_avg * sst_anom[patch_and_icefree]\n",
    "                delta_sst_p_i_sum += sst_anom\n",
    "    return sum_of_eq3_numerator, delta_sst_p_i_sum"
   ]
  },
  {
   "cell_type": "code",
   "execution_count": null,
   "metadata": {},
   "outputs": [],
   "source": [
    "VAR = \"gen_map-net_energy_flux_toa_into_atmosphere\""
   ]
  },
  {
   "cell_type": "code",
   "execution_count": null,
   "metadata": {},
   "outputs": [],
   "source": [
    "def get_eq3_warming_cooling_avg(control_run):\n",
    "    sum_of_eq3_numerator, delta_sst_p_i_sum = get_normalized_derivative_of_N(VAR, 2, control_run)\n",
    "    eq3_warming = np.zeros_like(control_run[\"gen_map-TS\"].values)\n",
    "    eq3_warming[:, :] = np.nan\n",
    "    eq3_warming[ocean_mask & ice_free_mask] = sum_of_eq3_numerator[ocean_mask & ice_free_mask] / delta_sst_p_i_sum[ocean_mask & ice_free_mask]\n",
    "\n",
    "    sum_of_eq3_numerator, delta_sst_p_i_sum = get_normalized_derivative_of_N(VAR, -2, control_run)\n",
    "    eq3_cooling = np.zeros_like(control_run[\"gen_map-TS\"].values)\n",
    "    eq3_cooling[:, :] = np.nan\n",
    "    eq3_cooling[ocean_mask & ice_free_mask] = sum_of_eq3_numerator[ocean_mask & ice_free_mask] / delta_sst_p_i_sum[ocean_mask & ice_free_mask]\n",
    "\n",
    "    eq3_avg = np.zeros_like(control_run[\"gen_map-TS\"].values)\n",
    "    eq3_avg[:, :] = np.nan\n",
    "    eq3_avg = (eq3_warming[:,:] + eq3_cooling[:,:]) / 2.\n",
    "    return eq3_warming, eq3_cooling, eq3_avg"
   ]
  },
  {
   "cell_type": "code",
   "execution_count": null,
   "metadata": {},
   "outputs": [],
   "source": [
    "control10_eq3_warming, control10_eq3_cooling, control10_eq3_avg = get_eq3_warming_cooling_avg(control)"
   ]
  },
  {
   "cell_type": "code",
   "execution_count": null,
   "metadata": {},
   "outputs": [],
   "source": [
    "fig, axes = plt.subplots(1, 3, figsize=(20, 9), subplot_kw={'projection': ccrs.PlateCarree(central_longitude=180)})\n",
    "axes = axes.flatten()\n",
    "ACE_results = [control10_eq3_warming, control10_eq3_cooling, control10_eq3_avg]\n",
    "labels = [\"Warming\", \"Cooling\", \"Average\"]\n",
    "for i in range(3):\n",
    "    cf = axes[i].contourf(lons, lats, ACE_results[i], levels=np.arange(-30, 31, 2), extend=\"both\", transform=ccrs.PlateCarree(), cmap=\"seismic\")\n",
    "    cbar = plt.colorbar(cf, orientation=\"horizontal\", pad=0.05)\n",
    "    cbar.set_label(\"dN/dSST [W/m^2/K]\")\n",
    "    axes[i].coastlines()\n",
    "    axes[i].set_global()\n",
    "    axes[i].set_title(labels[i])\n",
    "    gl = axes[i].gridlines(crs=ccrs.PlateCarree(), draw_labels=True,\n",
    "                    linewidth=0.5, color='gray', alpha=0.5, linestyle='--')\n",
    "    gl.top_labels = False"
   ]
  },
  {
   "cell_type": "code",
   "execution_count": null,
   "metadata": {},
   "outputs": [],
   "source": [
    "def get_paper_fig2_data(model_name, case):\n",
    "    model = xr.open_dataset(f\"/pscratch/sd/e/elynnwu/ace-run-inference/greens-function-test/preliminary_spatial_feedbacks/data/{model_name}.nc\")\n",
    "    model_lons, model_lats = np.meshgrid(model.longitude, model.latitude)\n",
    "    if case == \"warming\":\n",
    "        data = model.spatial_feedbacks_from_warming.values\n",
    "    elif case == \"cooling\":\n",
    "        data = model.spatial_feedbacks_from_cooling.values\n",
    "    else:\n",
    "        data = model.spatial_feedbacks_from_both.values\n",
    "    return model_lons, model_lats, data"
   ]
  },
  {
   "cell_type": "code",
   "execution_count": null,
   "metadata": {},
   "outputs": [],
   "source": [
    "model_results = {}\n",
    "case_name = \"both\"\n",
    "model_results[\"CAM5\"] = get_paper_fig2_data(\"cam5\", case_name)\n",
    "model_results[\"HadCM3\"] = get_paper_fig2_data(\"hadcm3\", case_name)\n",
    "model_results[\"GFDL-AM4\"] =get_paper_fig2_data(\"gfdlam4\", case_name)\n",
    "model_results[\"ACE\"] = (lons, lats, control10_eq3_avg)"
   ]
  },
  {
   "cell_type": "code",
   "execution_count": null,
   "metadata": {},
   "outputs": [],
   "source": [
    "fig, axes = plt.subplots(1, 4, figsize=(20, 9), subplot_kw={'projection': ccrs.PlateCarree(central_longitude=180)})\n",
    "axes = axes.flatten()\n",
    "for i, model in enumerate(model_results.keys()):\n",
    "    lons, lats, avg = model_results[model]\n",
    "    cf = axes[i].contourf(lons, lats, avg, levels=np.arange(-30, 31, 2), extend=\"both\", transform=ccrs.PlateCarree(), cmap=\"seismic\")\n",
    "    cbar = plt.colorbar(cf, orientation=\"horizontal\", pad=0.05)\n",
    "    cbar.set_label(\"dN/dSST [W/m^2/K]\")\n",
    "    axes[i].coastlines()\n",
    "    axes[i].set_global()\n",
    "    axes[i].set_title(model)\n",
    "    gl = axes[i].gridlines(crs=ccrs.PlateCarree(), draw_labels=True,\n",
    "                    linewidth=0.5, color='gray', alpha=0.5, linestyle='--')\n",
    "    gl.top_labels = False\n"
   ]
  }
 ],
 "metadata": {
  "kernelspec": {
   "display_name": "fme",
   "language": "python",
   "name": "python3"
  },
  "language_info": {
   "codemirror_mode": {
    "name": "ipython",
    "version": 3
   },
   "file_extension": ".py",
   "mimetype": "text/x-python",
   "name": "python",
   "nbconvert_exporter": "python",
   "pygments_lexer": "ipython3",
   "version": "3.10.14"
  }
 },
 "nbformat": 4,
 "nbformat_minor": 2
}
