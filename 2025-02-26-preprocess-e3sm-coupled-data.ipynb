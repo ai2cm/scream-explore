{
 "cells": [
  {
   "cell_type": "code",
   "execution_count": null,
   "id": "49ab3a57-e5fb-49c5-87b7-95fb3dd923ff",
   "metadata": {},
   "outputs": [],
   "source": [
    "import os\n",
    "import sys\n",
    "\n",
    "sys.path.insert(0, \"/pscratch/sd/e/elynnwu/full-model/scripts/data_process\")\n",
    "\n",
    "from compute_ocean_dataset_e3sm import (\n",
    "    construct_lazy_dataset,\n",
    "    OceanDatasetConfig,\n",
    ")\n",
    "\n",
    "import xarray as xr\n",
    "import numpy as np\n",
    "import cftime\n",
    "import xpartition\n",
    "from dask.diagnostics import ProgressBar"
   ]
  },
  {
   "cell_type": "code",
   "execution_count": null,
   "id": "e0b02be2-9dec-41d0-81c4-c3e5575e5f12",
   "metadata": {
    "scrolled": true
   },
   "outputs": [],
   "source": [
    "import dask\n",
    "from dask.distributed import Client\n",
    "import os\n",
    "\n",
    "scheduler_file = os.path.join(os.environ[\"SCRATCH\"], \"scheduler_file.json\")\n",
    "\n",
    "client = Client(scheduler_file=scheduler_file)\n",
    "client"
   ]
  },
  {
   "cell_type": "code",
   "execution_count": null,
   "id": "37248165-46d5-4d42-a02a-5c01b92db531",
   "metadata": {},
   "outputs": [],
   "source": [
    "config = OceanDatasetConfig.from_file(\"/pscratch/sd/e/elynnwu/full-model/scripts/data_process/configs/e3smv3-ocean-1deg.yaml\").dataset_computation"
   ]
  },
  {
   "cell_type": "code",
   "execution_count": null,
   "id": "831a8437-97c6-4daa-a7b5-5411150b1424",
   "metadata": {},
   "outputs": [],
   "source": [
    "ds = construct_lazy_dataset(\n",
    "    config=config\n",
    ")"
   ]
  },
  {
   "cell_type": "code",
   "execution_count": null,
   "id": "1463b177-9920-4951-bba9-197d9d6eaa4c",
   "metadata": {},
   "outputs": [],
   "source": [
    "outer_chunks = {\"time\": 10, \"lon\": 10, \"lat\": 10}"
   ]
  },
  {
   "cell_type": "code",
   "execution_count": null,
   "id": "6d1f141f-a6d2-4927-aa69-b290bed9935b",
   "metadata": {},
   "outputs": [],
   "source": [
    "ds = ds.chunk(outer_chunks)"
   ]
  },
  {
   "cell_type": "code",
   "execution_count": null,
   "id": "c017e2b3-074d-4ec5-8a1d-95a41050904d",
   "metadata": {},
   "outputs": [],
   "source": [
    "inner_chunks = {\"time\": 1, \"lon\": 10, \"lat\": 10}"
   ]
  },
  {
   "cell_type": "code",
   "execution_count": null,
   "id": "7bc9f951-1b1b-42e6-866b-680c422148bc",
   "metadata": {},
   "outputs": [],
   "source": [
    "print(f\"Output dataset size is {ds.nbytes / 1e9} GB\")"
   ]
  },
  {
   "cell_type": "code",
   "execution_count": null,
   "id": "1e4b212e-c67f-4dd6-ba76-2acabf18762d",
   "metadata": {},
   "outputs": [],
   "source": [
    "output_store = \"/pscratch/sd/e/elynnwu/e3smv3-couple-run/zarrv3/2025-03-18-E3SM-piControl-ocean-ice/data.zarr\""
   ]
  },
  {
   "cell_type": "code",
   "execution_count": null,
   "id": "1d6f9854-b5a0-4121-9033-a9763a448273",
   "metadata": {},
   "outputs": [],
   "source": [
    "# this also has the same memory error\n",
    "# delayed = ds.to_zarr(output_store, compute=False)\n",
    "# dask.compute(delayed)"
   ]
  },
  {
   "cell_type": "code",
   "execution_count": null,
   "id": "aeff861c-4ca3-48bc-a3b6-0ae2c240d922",
   "metadata": {},
   "outputs": [],
   "source": [
    "ds.partition.initialize_store(output_store, inner_chunks=inner_chunks)\n",
    "n_split = 50\n",
    "for i in range(n_split):\n",
    "    print(f\"Writing segment {i + 1} / {n_split}\")\n",
    "    ds.partition.write(\n",
    "        output_store,\n",
    "        n_split,\n",
    "        [config.standard_names.time_dim],\n",
    "        i,\n",
    "        collect_variable_writes=True,\n",
    "    )"
   ]
  }
 ],
 "metadata": {
  "kernelspec": {
   "display_name": "ocean_preprocess_v3",
   "language": "python",
   "name": "ocean_preprocess_v3"
  },
  "language_info": {
   "codemirror_mode": {
    "name": "ipython",
    "version": 3
   },
   "file_extension": ".py",
   "mimetype": "text/x-python",
   "name": "python",
   "nbconvert_exporter": "python",
   "pygments_lexer": "ipython3",
   "version": "3.11.11"
  }
 },
 "nbformat": 4,
 "nbformat_minor": 5
}
